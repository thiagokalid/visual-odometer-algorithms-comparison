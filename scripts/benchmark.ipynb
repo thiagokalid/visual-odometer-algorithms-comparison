{
 "cells": [
  {
   "metadata": {
    "ExecuteTime": {
     "end_time": "2025-09-30T01:00:39.879866Z",
     "start_time": "2025-09-30T01:00:39.757800Z"
    }
   },
   "cell_type": "code",
   "source": [
    "import numpy as np\n",
    "import time\n",
    "from visual_odometer import VisualOdometer\n",
    "from tqdm import tqdm\n",
    "import pandas as pd\n",
    "\n",
    "DATA_ROOT = \"../data/\"\n",
    "\n",
    "data = pd.read_pickle(DATA_ROOT + \"artificial_dataset.pkl\")\n",
    "\n",
    "methods = [\"svd\", \"proj-svd\", \"phase-correlation\", \"phase-amplified-correlation\"]\n"
   ],
   "id": "9de915080ef5176e",
   "outputs": [],
   "execution_count": 18
  },
  {
   "metadata": {
    "ExecuteTime": {
     "end_time": "2025-09-30T01:00:39.895426Z",
     "start_time": "2025-09-30T01:00:39.881875Z"
    }
   },
   "cell_type": "code",
   "source": [
    "results = {\n",
    "    (\"ID\", \"\", \"\"): [],\n",
    "    (\"Method\", \"\", \"\"): [],\n",
    "\n",
    "    (\"Elapsed time / (ms)\", \"mean\", \"\"): [],\n",
    "    (\"Elapsed time / (ms)\", \"max\", \"\"): [],\n",
    "    (\"Elapsed time / (ms)\", \"min\", \"\"): [],\n",
    "\n",
    "    (\"Point wise error / (pixels)\", \"x-axis\", \"mean\"): [],\n",
    "    (\"Point wise error / (pixels)\", \"x-axis\", \"max\"): [],\n",
    "    (\"Point wise error / (pixels)\", \"x-axis\", \"min\"): [],\n",
    "\n",
    "    (\"Point wise error / (pixels)\", \"y-axis\", \"mean\"): [],\n",
    "    (\"Point wise error / (pixels)\", \"y-axis\", \"max\"): [],\n",
    "    (\"Point wise error / (pixels)\", \"y-axis\", \"min\"): [],\n",
    "\n",
    "    (\"Point wise error / (pixels)\", \"combined\", \"mean\"): [],\n",
    "    (\"Point wise error / (pixels)\", \"combined\", \"max\"): [],\n",
    "    (\"Point wise error / (pixels)\", \"combined\", \"min\"): [],\n",
    "\n",
    "    (\"Cumulative error / (pixels)\", \"x-axis\", \"\"): [],\n",
    "    (\"Cumulative error / (pixels)\", \"y-axis\", \"\"): [],\n",
    "    (\"Cumulative error / (pixels)\", \"comb\", \"\"): [],\n",
    "}\n",
    "\n",
    "estimates = {\n",
    "    \"ID\": [],\n",
    "    \"Method\": [],\n",
    "    \"x-axis\": [],\n",
    "    \"y-axis\": [],\n",
    "}\n"
   ],
   "id": "ce4be39cd247cd37",
   "outputs": [],
   "execution_count": 19
  },
  {
   "metadata": {
    "ExecuteTime": {
     "end_time": "2025-09-30T01:01:04.065784Z",
     "start_time": "2025-09-30T01:00:39.898956Z"
    }
   },
   "cell_type": "code",
   "source": [
    "ii = 0\n",
    "for method in tqdm(methods):\n",
    "    odometer = VisualOdometer(img_shape=data[\"img\"][0].shape, xres=-1, yres=-1)\n",
    "    odometer.config_displacement_estimation(method)\n",
    "\n",
    "    odometer.feed_image(data[\"img\"][0])\n",
    "    odometer.get_displacement()\n",
    "    odometer.feed_image(data[\"img\"][1])\n",
    "    odometer.get_displacement()\n",
    "\n",
    "    t0 = time.time()\n",
    "    elapsed_time = []\n",
    "\n",
    "    nrows = len(data)\n",
    "    delta_x_pred, delta_y_pred = [], []\n",
    "    x_pred, y_pred = [0], [0]\n",
    "    x_true, y_true = [0], [0]\n",
    "    for i in range(nrows):\n",
    "        order = data.iloc[i]['order']\n",
    "        img = data.iloc[i]['img']\n",
    "\n",
    "        ti0 = time.time()\n",
    "        odometer.feed_image(img)\n",
    "\n",
    "        delta_xi, delta_yi = odometer.get_displacement()\n",
    "        ti1 = time.time()\n",
    "\n",
    "        elapsed_time.append((ti1 - ti0) * 1e3)\n",
    "        delta_x_pred.append(delta_xi)\n",
    "        delta_y_pred.append(delta_yi)\n",
    "        x_pred.append(delta_xi + x_pred[-1])\n",
    "        y_pred.append(delta_yi + y_pred[-1])\n",
    "        x_true.append(data[\"delta_x\"][i] + x_true[-1])\n",
    "        y_true.append(data[\"delta_y\"][i] + y_true[-1])\n",
    "\n",
    "    x_true, y_true = np.array(x_true), np.array(y_true)\n",
    "    x_pred, y_pred = np.array(x_pred), np.array(y_pred)\n",
    "\n",
    "    #%% Compute metrics:\n",
    "    pointwise_x_error = x_true - x_pred\n",
    "    pointwise_y_error = y_true - y_pred\n",
    "    pointwise_comb_error = np.sqrt(pointwise_x_error ** 2 + pointwise_y_error ** 2)\n",
    "\n",
    "    cumulative_x_error = x_pred[-1] - x_true[-1]\n",
    "    cumulative_y_error = y_pred[-1] - y_true[-1]\n",
    "    cumulative_comb_error = np.sqrt(cumulative_x_error ** 2 + cumulative_y_error ** 2)\n",
    "\n",
    "    #%% Convert results into dataframe:\n",
    "    ii += 1\n",
    "    results[(\"ID\", \"\", \"\")].append(ii)\n",
    "    results[(\"Method\", \"\", \"\")].append(method)\n",
    "\n",
    "    # Elapsed time\n",
    "    results[(\"Elapsed time / (ms)\", \"mean\", \"\")].append(np.mean(elapsed_time))\n",
    "    results[(\"Elapsed time / (ms)\", \"max\", \"\")].append(np.max(elapsed_time))\n",
    "    results[(\"Elapsed time / (ms)\", \"min\", \"\")].append(np.min(elapsed_time))\n",
    "\n",
    "    # Pointwise error (x-axis)\n",
    "    results[(\"Point wise error / (pixels)\", \"x-axis\", \"mean\")].append(np.mean(pointwise_x_error))\n",
    "    results[(\"Point wise error / (pixels)\", \"x-axis\", \"max\")].append(np.max(pointwise_x_error))\n",
    "    results[(\"Point wise error / (pixels)\", \"x-axis\", \"min\")].append(np.min(pointwise_x_error))\n",
    "\n",
    "    # Pointwise error (y-axis)\n",
    "    results[(\"Point wise error / (pixels)\", \"y-axis\", \"mean\")].append(np.mean(pointwise_y_error))\n",
    "    results[(\"Point wise error / (pixels)\", \"y-axis\", \"max\")].append(np.max(pointwise_y_error))\n",
    "    results[(\"Point wise error / (pixels)\", \"y-axis\", \"min\")].append(np.min(pointwise_y_error))\n",
    "\n",
    "    # Pointwise error (combined)\n",
    "    results[(\"Point wise error / (pixels)\", \"combined\", \"mean\")].append(np.mean(pointwise_comb_error))\n",
    "    results[(\"Point wise error / (pixels)\", \"combined\", \"max\")].append(np.max(pointwise_comb_error))\n",
    "    results[(\"Point wise error / (pixels)\", \"combined\", \"min\")].append(np.min(pointwise_comb_error))\n",
    "\n",
    "    # Cumulative errors\n",
    "    results[(\"Cumulative error / (pixels)\", \"x-axis\", \"\")].append(cumulative_x_error)\n",
    "    results[(\"Cumulative error / (pixels)\", \"y-axis\", \"\")].append(cumulative_y_error)\n",
    "    results[(\"Cumulative error / (pixels)\", \"comb\", \"\")].append(cumulative_comb_error)\n",
    "\n",
    "    #\n",
    "    estimates[\"ID\"].append(ii)\n",
    "    estimates[\"Method\"].append(method)\n",
    "    estimates[\"x-axis\"].append(x_pred)\n",
    "    estimates[\"y-axis\"].append(y_pred)"
   ],
   "id": "5f1900ff322df79",
   "outputs": [
    {
     "name": "stderr",
     "output_type": "stream",
     "text": [
      "100%|██████████| 4/4 [00:24<00:00,  6.03s/it]\n"
     ]
    }
   ],
   "execution_count": 20
  },
  {
   "metadata": {
    "ExecuteTime": {
     "end_time": "2025-09-30T01:01:04.095844Z",
     "start_time": "2025-09-30T01:01:04.070983Z"
    }
   },
   "cell_type": "code",
   "source": [
    "# Convert dict to DataFrame (single row per run if lists are same length)\n",
    "df = pd.DataFrame(results)\n",
    "\n",
    "# Convert columns to MultiIndex\n",
    "df.columns = pd.MultiIndex.from_tuples(df.columns, names=[\"Category\", \"Axis\", \"Metric\"])\n",
    "\n",
    "# Print nicely rounded table\n",
    "#print(df.round(4).to_string(index=False))"
   ],
   "id": "e26a506220c18a96",
   "outputs": [],
   "execution_count": 21
  },
  {
   "metadata": {
    "ExecuteTime": {
     "end_time": "2025-09-30T01:01:04.127097Z",
     "start_time": "2025-09-30T01:01:04.100366Z"
    }
   },
   "cell_type": "code",
   "source": [
    "from IPython.display import display\n",
    "\n",
    "# Just display the DataFrame directly\n",
    "display(\n",
    "    df.style\n",
    "      .format(precision=2)\n",
    "      .hide(axis='index')\n",
    ")"
   ],
   "id": "50bbc3e51f93abe8",
   "outputs": [
    {
     "data": {
      "text/plain": [
       "<pandas.io.formats.style.Styler at 0x1c4c1527c70>"
      ],
      "text/html": [
       "<style type=\"text/css\">\n",
       "</style>\n",
       "<table id=\"T_5be1e\">\n",
       "  <thead>\n",
       "    <tr>\n",
       "      <th id=\"T_5be1e_level0_col0\" class=\"col_heading level0 col0\" >ID</th>\n",
       "      <th id=\"T_5be1e_level0_col1\" class=\"col_heading level0 col1\" >Method</th>\n",
       "      <th id=\"T_5be1e_level0_col2\" class=\"col_heading level0 col2\" colspan=\"3\">Elapsed time / (ms)</th>\n",
       "      <th id=\"T_5be1e_level0_col5\" class=\"col_heading level0 col5\" colspan=\"9\">Point wise error / (pixels)</th>\n",
       "      <th id=\"T_5be1e_level0_col14\" class=\"col_heading level0 col14\" colspan=\"3\">Cumulative error / (pixels)</th>\n",
       "    </tr>\n",
       "    <tr>\n",
       "      <th id=\"T_5be1e_level1_col0\" class=\"col_heading level1 col0\" ></th>\n",
       "      <th id=\"T_5be1e_level1_col1\" class=\"col_heading level1 col1\" ></th>\n",
       "      <th id=\"T_5be1e_level1_col2\" class=\"col_heading level1 col2\" >mean</th>\n",
       "      <th id=\"T_5be1e_level1_col3\" class=\"col_heading level1 col3\" >max</th>\n",
       "      <th id=\"T_5be1e_level1_col4\" class=\"col_heading level1 col4\" >min</th>\n",
       "      <th id=\"T_5be1e_level1_col5\" class=\"col_heading level1 col5\" colspan=\"3\">x-axis</th>\n",
       "      <th id=\"T_5be1e_level1_col8\" class=\"col_heading level1 col8\" colspan=\"3\">y-axis</th>\n",
       "      <th id=\"T_5be1e_level1_col11\" class=\"col_heading level1 col11\" colspan=\"3\">combined</th>\n",
       "      <th id=\"T_5be1e_level1_col14\" class=\"col_heading level1 col14\" >x-axis</th>\n",
       "      <th id=\"T_5be1e_level1_col15\" class=\"col_heading level1 col15\" >y-axis</th>\n",
       "      <th id=\"T_5be1e_level1_col16\" class=\"col_heading level1 col16\" >comb</th>\n",
       "    </tr>\n",
       "    <tr>\n",
       "      <th id=\"T_5be1e_level2_col0\" class=\"col_heading level2 col0\" ></th>\n",
       "      <th id=\"T_5be1e_level2_col1\" class=\"col_heading level2 col1\" ></th>\n",
       "      <th id=\"T_5be1e_level2_col2\" class=\"col_heading level2 col2\" ></th>\n",
       "      <th id=\"T_5be1e_level2_col3\" class=\"col_heading level2 col3\" ></th>\n",
       "      <th id=\"T_5be1e_level2_col4\" class=\"col_heading level2 col4\" ></th>\n",
       "      <th id=\"T_5be1e_level2_col5\" class=\"col_heading level2 col5\" >mean</th>\n",
       "      <th id=\"T_5be1e_level2_col6\" class=\"col_heading level2 col6\" >max</th>\n",
       "      <th id=\"T_5be1e_level2_col7\" class=\"col_heading level2 col7\" >min</th>\n",
       "      <th id=\"T_5be1e_level2_col8\" class=\"col_heading level2 col8\" >mean</th>\n",
       "      <th id=\"T_5be1e_level2_col9\" class=\"col_heading level2 col9\" >max</th>\n",
       "      <th id=\"T_5be1e_level2_col10\" class=\"col_heading level2 col10\" >min</th>\n",
       "      <th id=\"T_5be1e_level2_col11\" class=\"col_heading level2 col11\" >mean</th>\n",
       "      <th id=\"T_5be1e_level2_col12\" class=\"col_heading level2 col12\" >max</th>\n",
       "      <th id=\"T_5be1e_level2_col13\" class=\"col_heading level2 col13\" >min</th>\n",
       "      <th id=\"T_5be1e_level2_col14\" class=\"col_heading level2 col14\" ></th>\n",
       "      <th id=\"T_5be1e_level2_col15\" class=\"col_heading level2 col15\" ></th>\n",
       "      <th id=\"T_5be1e_level2_col16\" class=\"col_heading level2 col16\" ></th>\n",
       "    </tr>\n",
       "  </thead>\n",
       "  <tbody>\n",
       "    <tr>\n",
       "      <td id=\"T_5be1e_row0_col0\" class=\"data row0 col0\" >1</td>\n",
       "      <td id=\"T_5be1e_row0_col1\" class=\"data row0 col1\" >svd</td>\n",
       "      <td id=\"T_5be1e_row0_col2\" class=\"data row0 col2\" >9.68</td>\n",
       "      <td id=\"T_5be1e_row0_col3\" class=\"data row0 col3\" >24.11</td>\n",
       "      <td id=\"T_5be1e_row0_col4\" class=\"data row0 col4\" >6.02</td>\n",
       "      <td id=\"T_5be1e_row0_col5\" class=\"data row0 col5\" >2.70</td>\n",
       "      <td id=\"T_5be1e_row0_col6\" class=\"data row0 col6\" >2442.00</td>\n",
       "      <td id=\"T_5be1e_row0_col7\" class=\"data row0 col7\" >0.00</td>\n",
       "      <td id=\"T_5be1e_row0_col8\" class=\"data row0 col8\" >-768.16</td>\n",
       "      <td id=\"T_5be1e_row0_col9\" class=\"data row0 col9\" >0.50</td>\n",
       "      <td id=\"T_5be1e_row0_col10\" class=\"data row0 col10\" >-2741.75</td>\n",
       "      <td id=\"T_5be1e_row0_col11\" class=\"data row0 col11\" >770.79</td>\n",
       "      <td id=\"T_5be1e_row0_col12\" class=\"data row0 col12\" >2741.75</td>\n",
       "      <td id=\"T_5be1e_row0_col13\" class=\"data row0 col13\" >0.00</td>\n",
       "      <td id=\"T_5be1e_row0_col14\" class=\"data row0 col14\" >-2442.00</td>\n",
       "      <td id=\"T_5be1e_row0_col15\" class=\"data row0 col15\" >77.74</td>\n",
       "      <td id=\"T_5be1e_row0_col16\" class=\"data row0 col16\" >2443.24</td>\n",
       "    </tr>\n",
       "    <tr>\n",
       "      <td id=\"T_5be1e_row1_col0\" class=\"data row1 col0\" >2</td>\n",
       "      <td id=\"T_5be1e_row1_col1\" class=\"data row1 col1\" >proj-svd</td>\n",
       "      <td id=\"T_5be1e_row1_col2\" class=\"data row1 col2\" >5.23</td>\n",
       "      <td id=\"T_5be1e_row1_col3\" class=\"data row1 col3\" >25.14</td>\n",
       "      <td id=\"T_5be1e_row1_col4\" class=\"data row1 col4\" >3.00</td>\n",
       "      <td id=\"T_5be1e_row1_col5\" class=\"data row1 col5\" >-1840.35</td>\n",
       "      <td id=\"T_5be1e_row1_col6\" class=\"data row1 col6\" >37.08</td>\n",
       "      <td id=\"T_5be1e_row1_col7\" class=\"data row1 col7\" >-2455.36</td>\n",
       "      <td id=\"T_5be1e_row1_col8\" class=\"data row1 col8\" >-768.79</td>\n",
       "      <td id=\"T_5be1e_row1_col9\" class=\"data row1 col9\" >0.46</td>\n",
       "      <td id=\"T_5be1e_row1_col10\" class=\"data row1 col10\" >-2743.40</td>\n",
       "      <td id=\"T_5be1e_row1_col11\" class=\"data row1 col11\" >2110.30</td>\n",
       "      <td id=\"T_5be1e_row1_col12\" class=\"data row1 col12\" >3648.30</td>\n",
       "      <td id=\"T_5be1e_row1_col13\" class=\"data row1 col13\" >0.00</td>\n",
       "      <td id=\"T_5be1e_row1_col14\" class=\"data row1 col14\" >-37.08</td>\n",
       "      <td id=\"T_5be1e_row1_col15\" class=\"data row1 col15\" >79.40</td>\n",
       "      <td id=\"T_5be1e_row1_col16\" class=\"data row1 col16\" >87.63</td>\n",
       "    </tr>\n",
       "    <tr>\n",
       "      <td id=\"T_5be1e_row2_col0\" class=\"data row2 col0\" >3</td>\n",
       "      <td id=\"T_5be1e_row2_col1\" class=\"data row2 col1\" >phase-correlation</td>\n",
       "      <td id=\"T_5be1e_row2_col2\" class=\"data row2 col2\" >4.64</td>\n",
       "      <td id=\"T_5be1e_row2_col3\" class=\"data row2 col3\" >14.30</td>\n",
       "      <td id=\"T_5be1e_row2_col4\" class=\"data row2 col4\" >1.99</td>\n",
       "      <td id=\"T_5be1e_row2_col5\" class=\"data row2 col5\" >-828.40</td>\n",
       "      <td id=\"T_5be1e_row2_col6\" class=\"data row2 col6\" >1341.00</td>\n",
       "      <td id=\"T_5be1e_row2_col7\" class=\"data row2 col7\" >-1101.00</td>\n",
       "      <td id=\"T_5be1e_row2_col8\" class=\"data row2 col8\" >-448.68</td>\n",
       "      <td id=\"T_5be1e_row2_col9\" class=\"data row2 col9\" >1036.00</td>\n",
       "      <td id=\"T_5be1e_row2_col10\" class=\"data row2 col10\" >-1628.00</td>\n",
       "      <td id=\"T_5be1e_row2_col11\" class=\"data row2 col11\" >1022.73</td>\n",
       "      <td id=\"T_5be1e_row2_col12\" class=\"data row2 col12\" >1965.35</td>\n",
       "      <td id=\"T_5be1e_row2_col13\" class=\"data row2 col13\" >0.00</td>\n",
       "      <td id=\"T_5be1e_row2_col14\" class=\"data row2 col14\" >-1341.00</td>\n",
       "      <td id=\"T_5be1e_row2_col15\" class=\"data row2 col15\" >-1036.00</td>\n",
       "      <td id=\"T_5be1e_row2_col16\" class=\"data row2 col16\" >1694.57</td>\n",
       "    </tr>\n",
       "    <tr>\n",
       "      <td id=\"T_5be1e_row3_col0\" class=\"data row3 col0\" >4</td>\n",
       "      <td id=\"T_5be1e_row3_col1\" class=\"data row3 col1\" >phase-amplified-correlation</td>\n",
       "      <td id=\"T_5be1e_row3_col2\" class=\"data row3 col2\" >6.03</td>\n",
       "      <td id=\"T_5be1e_row3_col3\" class=\"data row3 col3\" >21.66</td>\n",
       "      <td id=\"T_5be1e_row3_col4\" class=\"data row3 col4\" >3.00</td>\n",
       "      <td id=\"T_5be1e_row3_col5\" class=\"data row3 col5\" >-830.45</td>\n",
       "      <td id=\"T_5be1e_row3_col6\" class=\"data row3 col6\" >1342.50</td>\n",
       "      <td id=\"T_5be1e_row3_col7\" class=\"data row3 col7\" >-1102.00</td>\n",
       "      <td id=\"T_5be1e_row3_col8\" class=\"data row3 col8\" >-456.09</td>\n",
       "      <td id=\"T_5be1e_row3_col9\" class=\"data row3 col9\" >1025.25</td>\n",
       "      <td id=\"T_5be1e_row3_col10\" class=\"data row3 col10\" >-1638.75</td>\n",
       "      <td id=\"T_5be1e_row3_col11\" class=\"data row3 col11\" >1028.12</td>\n",
       "      <td id=\"T_5be1e_row3_col12\" class=\"data row3 col12\" >1973.42</td>\n",
       "      <td id=\"T_5be1e_row3_col13\" class=\"data row3 col13\" >0.00</td>\n",
       "      <td id=\"T_5be1e_row3_col14\" class=\"data row3 col14\" >-1342.50</td>\n",
       "      <td id=\"T_5be1e_row3_col15\" class=\"data row3 col15\" >-1025.25</td>\n",
       "      <td id=\"T_5be1e_row3_col16\" class=\"data row3 col16\" >1689.21</td>\n",
       "    </tr>\n",
       "  </tbody>\n",
       "</table>\n"
      ]
     },
     "metadata": {},
     "output_type": "display_data"
    }
   ],
   "execution_count": 22
  },
  {
   "metadata": {
    "ExecuteTime": {
     "end_time": "2025-09-30T01:01:04.488112Z",
     "start_time": "2025-09-30T01:01:04.132897Z"
    }
   },
   "cell_type": "code",
   "source": [
    "import matplotlib.pyplot as plt\n",
    "\n",
    "fig = plt.figure(figsize=(10, 5))\n",
    "\n",
    "colors = ['r', 'g', 'purple', 'cyan']\n",
    "plt.plot(x_true, y_true, '-o', markersize=3, alpha=.5, color='k', label='Ideal')\n",
    "for i, method in enumerate(methods):\n",
    "    plt.plot(estimates['x-axis'][i], estimates['y-axis'][i], '-o', color=colors[i], label=method, markersize=3)\n",
    "plt.legend()\n",
    "plt.show()"
   ],
   "id": "6eac5e78a621d345",
   "outputs": [
    {
     "data": {
      "text/plain": [
       "<Figure size 1000x500 with 1 Axes>"
      ],
      "image/png": "[encoded data removed]"
     },
     "metadata": {},
     "output_type": "display_data"
    }
   ],
   "execution_count": 23
  }
 ],
 "metadata": {
  "kernelspec": {
   "display_name": "Python 3",
   "language": "python",
   "name": "python3"
  },
  "language_info": {
   "codemirror_mode": {
    "name": "ipython",
    "version": 2
   },
   "file_extension": ".py",
   "mimetype": "text/x-python",
   "name": "python",
   "nbconvert_exporter": "python",
   "pygments_lexer": "ipython2",
   "version": "2.7.6"
  }
 },
 "nbformat": 4,
 "nbformat_minor": 5
}
